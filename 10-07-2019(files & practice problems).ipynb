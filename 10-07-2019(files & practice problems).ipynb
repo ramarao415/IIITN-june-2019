{
 "cells": [
  {
   "cell_type": "code",
   "execution_count": 38,
   "metadata": {},
   "outputs": [],
   "source": [
    "#syntax\n",
    "filepath = \"practice/firstfile.txt\"\n",
    "with open(filepath,'w') as f:\n",
    "    f.write(\"Good morning ! Happy Birthday!\\n\")# for writing data into file    \n",
    "    f.write(\"Good morning ! Happy Birthday!\")# for writing data into file"
   ]
  },
  {
   "cell_type": "code",
   "execution_count": 31,
   "metadata": {},
   "outputs": [],
   "source": [
    "# writing the data into file\n",
    "filepath = \"practice/firstfile.txt\"\n",
    "with open(filepath,'w')as f:\n",
    "    f.write(\"Good Morning! Happy Birthday\")"
   ]
  },
  {
   "cell_type": "code",
   "execution_count": 46,
   "metadata": {},
   "outputs": [
    {
     "name": "stdout",
     "output_type": "stream",
     "text": [
      "Good morning ! Happy Birthday!\n",
      "\n"
     ]
    }
   ],
   "source": [
    "#reading data from file\n",
    "with open(filepath,'r')as f:\n",
    "    s=f.readline()\n",
    "print(s,end=\"\\n\")"
   ]
  },
  {
   "cell_type": "code",
   "execution_count": 15,
   "metadata": {},
   "outputs": [
    {
     "name": "stdout",
     "output_type": "stream",
     "text": [
      "5.5\n",
      "5\n",
      "5\n"
     ]
    }
   ],
   "source": [
    "# Read Numbers from a file and sum them up\n",
    "import math\n",
    "fp=\"practice/numbers.txt\"\n",
    "with open (fp,'r')as f:\n",
    "    s = 0\n",
    "    c = 0\n",
    "    for i in f:\n",
    "        s +=int(i)\n",
    "        c +=1\n",
    "    print(s/c)\n",
    "    print(s//c)\n",
    "    print(math.floor(s/c))\n",
    "    #print(int(s//c))   "
   ]
  },
  {
   "cell_type": "code",
   "execution_count": 16,
   "metadata": {},
   "outputs": [
    {
     "name": "stdout",
     "output_type": "stream",
     "text": [
      "4\n"
     ]
    }
   ],
   "source": [
    "# Count the number of lines \n",
    "with open(filepath,'r') as f:\n",
    "    linescount = 0\n",
    "    for i in f:\n",
    "        linescount +=1\n",
    "    print(linescount)"
   ]
  },
  {
   "cell_type": "code",
   "execution_count": 17,
   "metadata": {},
   "outputs": [
    {
     "name": "stdout",
     "output_type": "stream",
     "text": [
      "20\n"
     ]
    }
   ],
   "source": [
    "# Count number of words in a file\n",
    "with open(filepath,'r') as f:\n",
    "    wordcount = 0\n",
    "    for i in f:\n",
    "        li = i.split()\n",
    "        wordcount +=len(li)\n",
    "    print(wordcount)"
   ]
  },
  {
   "cell_type": "code",
   "execution_count": 13,
   "metadata": {},
   "outputs": [
    {
     "name": "stdout",
     "output_type": "stream",
     "text": [
      "10\n"
     ]
    }
   ],
   "source": [
    "# Count number of words in a file(another way)\n",
    "with open(filepath,'r') as f:\n",
    "    s = f.read().split('\\n')\n",
    "    s = \" \".join(s).split(\" \")   \n",
    "    print(len(s))"
   ]
  },
  {
   "cell_type": "code",
   "execution_count": 37,
   "metadata": {},
   "outputs": [
    {
     "name": "stdout",
     "output_type": "stream",
     "text": [
      "97\n"
     ]
    }
   ],
   "source": [
    "# Character Count\n",
    "with open(filepath,'r') as f:\n",
    "    charcount = 0 \n",
    "    for i in f:\n",
    "        s = i.split()\n",
    "        for j in s:\n",
    "            charcount +=len(j)\n",
    "    print(charcount)"
   ]
  },
  {
   "cell_type": "code",
   "execution_count": 39,
   "metadata": {},
   "outputs": [],
   "source": [
    "# Function to append data to a file\n",
    "\n",
    "def appendDataToFile(filepath, filedata):\n",
    "    with open(filepath, 'a') as f:\n",
    "        for line in filedata:\n",
    "            f.write('\\n'+line)\n",
    "    return\n",
    "\n",
    "filedata = [\"Line4\", \"Line5\"]\n",
    "appendDataToFile(filepath, filedata)"
   ]
  },
  {
   "cell_type": "code",
   "execution_count": null,
   "metadata": {},
   "outputs": [],
   "source": []
  },
  {
   "cell_type": "code",
   "execution_count": 41,
   "metadata": {},
   "outputs": [
    {
     "data": {
      "text/plain": [
       "3"
      ]
     },
     "execution_count": 41,
     "metadata": {},
     "output_type": "execute_result"
    }
   ],
   "source": [
    "def highestFrequencyElement(li):\n",
    "    #Extracting unique elements with frequencies\n",
    "    unique = {}\n",
    "    for n in li:\n",
    "        if n in unique:\n",
    "            unique[n] += 1\n",
    "        else:\n",
    "            unique[n] = 1\n",
    "    # unique = {1:2, 2:2, 3:2, 9:1, 8:1, 7:1, 4:1}\n",
    "    maxfreq = max(unique.values())\n",
    "    \n",
    "    #Extract all keys with maxfreq in a list\n",
    "    maxfreqkeys = []\n",
    "    for item in unique.items():\n",
    "        #item -> (key, value)\n",
    "        # item[1]\n",
    "        if item[1] == maxfreq:\n",
    "            maxfreqkeys.append(item[0])\n",
    "    \n",
    "    return max(maxfreqkeys)\n",
    "\n",
    "highestFrequencyElement([1,2,3,9,8,7,3,4,2,1])"
   ]
  },
  {
   "cell_type": "code",
   "execution_count": null,
   "metadata": {},
   "outputs": [],
   "source": []
  },
  {
   "cell_type": "code",
   "execution_count": 76,
   "metadata": {
    "scrolled": true
   },
   "outputs": [
    {
     "name": "stdout",
     "output_type": "stream",
     "text": [
      "Hacker Earth\n",
      "Hacker_Earth\n"
     ]
    }
   ],
   "source": [
    "k = input()\n",
    "k=k.replace(\" \",\"_\")\n",
    "print(k)"
   ]
  },
  {
   "cell_type": "code",
   "execution_count": 94,
   "metadata": {},
   "outputs": [
    {
     "name": "stdout",
     "output_type": "stream",
     "text": [
      "SaiRam\n",
      "Sai_Ram\n"
     ]
    }
   ],
   "source": [
    "k = input()\n",
    "for i in range(1,len(k)):\n",
    "    if ord(k[i])<97 :\n",
    "        str = k[:i]+\"_\"+k[i:]\n",
    "print(str)"
   ]
  },
  {
   "cell_type": "code",
   "execution_count": null,
   "metadata": {},
   "outputs": [],
   "source": []
  }
 ],
 "metadata": {
  "kernelspec": {
   "display_name": "Python 3",
   "language": "python",
   "name": "python3"
  },
  "language_info": {
   "codemirror_mode": {
    "name": "ipython",
    "version": 3
   },
   "file_extension": ".py",
   "mimetype": "text/x-python",
   "name": "python",
   "nbconvert_exporter": "python",
   "pygments_lexer": "ipython3",
   "version": "3.7.3"
  }
 },
 "nbformat": 4,
 "nbformat_minor": 2
}
