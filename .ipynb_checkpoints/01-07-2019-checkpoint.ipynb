{
 "cells": [
  {
   "cell_type": "markdown",
   "metadata": {},
   "source": [
    "## 11. Find the number of unique websites and  print the highest frequency websites in alphabet order\n",
    "\n",
    "input ::                                                                                            \n",
    "“https://www.google.com  https://www.gmail.com  https:www.eenadu.net  https://www.gmail.com  https://www.google.com”\n",
    "\n",
    "output  ::\n",
    "                    3\n",
    "            https://www.gmail.com\n",
    "            https://www.google.com\n"
   ]
  },
  {
   "cell_type": "code",
   "execution_count": null,
   "metadata": {},
   "outputs": [],
   "source": [
    "{\"https://www.google.com\":2,\"https://gmail.com\":2}"
   ]
  },
  {
   "cell_type": "code",
   "execution_count": 49,
   "metadata": {},
   "outputs": [
    {
     "name": "stdout",
     "output_type": "stream",
     "text": [
      "https://www.google.com  https://www.gmail.com  https:www.eenadu.net  https://www.gmail.com  https://www.google.com\n",
      "3\n",
      "https://www.gmail.com\n",
      "https://www.google.com\n"
     ]
    }
   ],
   "source": [
    "web = input().split()\n",
    "unique = {}\n",
    "value_dict = []\n",
    "key_dict = []\n",
    "for w in web:\n",
    "    if w not in unique.keys():\n",
    "        unique[w]=1\n",
    "    else:\n",
    "        old = unique[w]\n",
    "        unique[w]=old+1\n",
    "        val=len(unique.keys())\n",
    "\n",
    "print(val)\n",
    "max_value = max(list(unique.values()))\n",
    "myList = []\n",
    "for key,value in unique.items():\n",
    "    if value == max_value:\n",
    "        myList.append(key)\n",
    "myList.sort()\n",
    "for each in myList:\n",
    "      print(each)\n",
    "\n"
   ]
  },
  {
   "cell_type": "code",
   "execution_count": 37,
   "metadata": {},
   "outputs": [
    {
     "data": {
      "text/plain": [
       "['__add__',\n",
       " '__class__',\n",
       " '__contains__',\n",
       " '__delattr__',\n",
       " '__delitem__',\n",
       " '__dir__',\n",
       " '__doc__',\n",
       " '__eq__',\n",
       " '__format__',\n",
       " '__ge__',\n",
       " '__getattribute__',\n",
       " '__getitem__',\n",
       " '__gt__',\n",
       " '__hash__',\n",
       " '__iadd__',\n",
       " '__imul__',\n",
       " '__init__',\n",
       " '__init_subclass__',\n",
       " '__iter__',\n",
       " '__le__',\n",
       " '__len__',\n",
       " '__lt__',\n",
       " '__mul__',\n",
       " '__ne__',\n",
       " '__new__',\n",
       " '__reduce__',\n",
       " '__reduce_ex__',\n",
       " '__repr__',\n",
       " '__reversed__',\n",
       " '__rmul__',\n",
       " '__setattr__',\n",
       " '__setitem__',\n",
       " '__sizeof__',\n",
       " '__str__',\n",
       " '__subclasshook__',\n",
       " 'append',\n",
       " 'clear',\n",
       " 'copy',\n",
       " 'count',\n",
       " 'extend',\n",
       " 'index',\n",
       " 'insert',\n",
       " 'pop',\n",
       " 'remove',\n",
       " 'reverse',\n",
       " 'sort']"
      ]
     },
     "execution_count": 37,
     "metadata": {},
     "output_type": "execute_result"
    }
   ],
   "source": [
    "dir([])"
   ]
  },
  {
   "cell_type": "markdown",
   "metadata": {},
   "source": [
    "## Functions\n",
    "    -"
   ]
  },
  {
   "cell_type": "code",
   "execution_count": null,
   "metadata": {},
   "outputs": [],
   "source": [
    "def func_name(p1,p2,....p3):\n",
    "    #function body\n",
    "func_name(arg1,arg2...arg3)"
   ]
  },
  {
   "cell_type": "code",
   "execution_count": 53,
   "metadata": {},
   "outputs": [
    {
     "name": "stdout",
     "output_type": "stream",
     "text": [
      "20\n",
      "40\n",
      "60\n"
     ]
    }
   ],
   "source": [
    "#passing arguments and return nothing\n",
    "def addition(s,g):\n",
    "    k=s+g\n",
    "    print(k)\n",
    "    return\n",
    "s=int(input())\n",
    "g=int(input())\n",
    "addition(s,g)"
   ]
  },
  {
   "cell_type": "code",
   "execution_count": null,
   "metadata": {},
   "outputs": [],
   "source": []
  },
  {
   "cell_type": "code",
   "execution_count": 58,
   "metadata": {},
   "outputs": [
    {
     "data": {
      "text/plain": [
       "[('www.gmail.com', 6), ('www.google.com', 5), ('www.eenadu.net', 2)]"
      ]
     },
     "execution_count": 58,
     "metadata": {},
     "output_type": "execute_result"
    }
   ],
   "source": [
    "result = [('www.google.com',5),('www.gmail.com',6),('www.eenadu.net',2)]\n",
    "result.sort(key=lambda x:x[1],reverse=True)\n",
    "result"
   ]
  },
  {
   "cell_type": "code",
   "execution_count": 57,
   "metadata": {},
   "outputs": [
    {
     "data": {
      "text/plain": [
       "3"
      ]
     },
     "execution_count": 57,
     "metadata": {},
     "output_type": "execute_result"
    }
   ],
   "source": [
    "myFun = lambda x:x[1]\n",
    "myFun((2,3))"
   ]
  },
  {
   "cell_type": "code",
   "execution_count": null,
   "metadata": {},
   "outputs": [],
   "source": []
  },
  {
   "cell_type": "code",
   "execution_count": null,
   "metadata": {},
   "outputs": [],
   "source": []
  },
  {
   "cell_type": "code",
   "execution_count": null,
   "metadata": {},
   "outputs": [],
   "source": []
  }
 ],
 "metadata": {
  "kernelspec": {
   "display_name": "Python 3",
   "language": "python",
   "name": "python3"
  },
  "language_info": {
   "codemirror_mode": {
    "name": "ipython",
    "version": 3
   },
   "file_extension": ".py",
   "mimetype": "text/x-python",
   "name": "python",
   "nbconvert_exporter": "python",
   "pygments_lexer": "ipython3",
   "version": "3.7.3"
  }
 },
 "nbformat": 4,
 "nbformat_minor": 2
}
