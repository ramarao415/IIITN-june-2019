{
 "cells": [
  {
   "cell_type": "markdown",
   "metadata": {},
   "source": [
    "#### Print given characters as a word with starting character capital form and remaining lower\n",
    "A P S S D C\n",
    "Apssdc"
   ]
  },
  {
   "cell_type": "code",
   "execution_count": 1,
   "metadata": {},
   "outputs": [
    {
     "name": "stdout",
     "output_type": "stream",
     "text": [
      "A P S S D C\n",
      "Apssdc\n"
     ]
    }
   ],
   "source": [
    "#above problem solution\n",
    "s=input()\n",
    "s=s.replace(\" \",\"\")\n",
    "s=s.capitalize()\n",
    "print(s)"
   ]
  },
  {
   "cell_type": "code",
   "execution_count": null,
   "metadata": {},
   "outputs": [],
   "source": [
    "characters = input()# a p s s d c\n",
    "words = characters.split()#[a p s s d c]\n",
    "\"\".join(words)\n",
    "words=words.capatilize()\n",
    "print(words)"
   ]
  },
  {
   "cell_type": "markdown",
   "metadata": {},
   "source": [
    "#### Print the maximum length word of given words\n",
    "input :: Hai hello world\n",
    "output ::          hello\n",
    "                   world\n"
   ]
  },
  {
   "cell_type": "code",
   "execution_count": 3,
   "metadata": {},
   "outputs": [
    {
     "name": "stdout",
     "output_type": "stream",
     "text": [
      "Hai hello world output\n",
      "output\n"
     ]
    }
   ],
   "source": [
    "k= input()\n",
    "k=k.split()\n",
    "high=0\n",
    "for i in k:\n",
    "    h = i\n",
    "    if len(i)>high:\n",
    "        high=len(i)\n",
    "for i in k:\n",
    "    if high==len(i):\n",
    "        print(i)"
   ]
  },
  {
   "cell_type": "code",
   "execution_count": 4,
   "metadata": {},
   "outputs": [
    {
     "name": "stdout",
     "output_type": "stream",
     "text": [
      "Hai hello world output\n",
      "output\n"
     ]
    }
   ],
   "source": [
    "words = input().split()#[\"hai\",\"hello\",\"world\"]\n",
    "lengths = []\n",
    "for word in words:\n",
    "    lengths.append(len(word))\n",
    "max_length=max(lengths)\n",
    "for word in words:\n",
    "    if max_length==len(word):\n",
    "        print(word)"
   ]
  },
  {
   "cell_type": "code",
   "execution_count": null,
   "metadata": {},
   "outputs": [],
   "source": [
    "words = input().split()#[\"hai\",\"hello\",\"world\"]\n",
    "max_length=max(list(map(int,words)))\n",
    "for word in words:\n",
    "    if max_length==len(word):\n",
    "        print(word)"
   ]
  },
  {
   "cell_type": "markdown",
   "metadata": {},
   "source": [
    "#### Print all the words which starts with the given character, If no words matches with the given condition you should print -1\n",
    "input   :: ramu ravi balu\n",
    "input   ::  r\n",
    "output  ::  ramu\n",
    "        ::  ravi"
   ]
  },
  {
   "cell_type": "code",
   "execution_count": null,
   "metadata": {},
   "outputs": [],
   "source": [
    "names = input().split()\n",
    "given_string=input()\n",
    "flag = 1\n",
    "for i in names:\n",
    "    g=i.startswith(given_string)\n",
    "    if(g):\n",
    "        print(i)\n",
    "        flag = 0\n",
    "if flag == 1:\n",
    "    print(\"-1\")\n",
    "\n",
    "        "
   ]
  },
  {
   "cell_type": "markdown",
   "metadata": {},
   "source": [
    "#### Print all the words which words not ends with vowels(a,e,i,o,u)\n",
    "input  :: ramu ravi balu raju mahesh\n",
    "output :: mahesh\n"
   ]
  },
  {
   "cell_type": "code",
   "execution_count": 1,
   "metadata": {},
   "outputs": [
    {
     "name": "stdout",
     "output_type": "stream",
     "text": [
      "sai ram gau tham\n",
      "ram\n",
      "tham\n"
     ]
    }
   ],
   "source": [
    "sentense = input().split()\n",
    "flag =1\n",
    "li = ['a','e','i','o','u']\n",
    "for i in sentense:\n",
    "    if(i[-1] in li):\n",
    "        flag = 0\n",
    "    else:\n",
    "        print(i)"
   ]
  },
  {
   "cell_type": "markdown",
   "metadata": {},
   "source": [
    "### Swap the case of all characters in given string except last character\n",
    "input  :: HellowOrld\n",
    "output :: hELLOWoRLd\n"
   ]
  },
  {
   "cell_type": "code",
   "execution_count": 5,
   "metadata": {},
   "outputs": [
    {
     "name": "stdout",
     "output_type": "stream",
     "text": [
      "SaIrAmA\n",
      "sAiRaMA\n"
     ]
    }
   ],
   "source": [
    "word = input()\n",
    "word=word[:-1].swapcase()+word[-1:]\n",
    "print(word)"
   ]
  },
  {
   "cell_type": "markdown",
   "metadata": {},
   "source": [
    "#### Print the number of words in a given string (here word starting character contains UPPER letter)\n",
    "input   :: HelloWorld\n",
    "output  ::  2\n"
   ]
  },
  {
   "cell_type": "code",
   "execution_count": 11,
   "metadata": {},
   "outputs": [
    {
     "name": "stdout",
     "output_type": "stream",
     "text": [
      "HelloWorld\n",
      "2\n"
     ]
    }
   ],
   "source": [
    "word = input()\n",
    "count=0\n",
    "for char in word:\n",
    "    if char.isupper():\n",
    "        count+=1\n",
    "print(count)"
   ]
  },
  {
   "cell_type": "code",
   "execution_count": 7,
   "metadata": {},
   "outputs": [
    {
     "name": "stdout",
     "output_type": "stream",
     "text": [
      "SaiGauthaMi\n"
     ]
    },
    {
     "data": {
      "text/plain": [
       "3"
      ]
     },
     "execution_count": 7,
     "metadata": {},
     "output_type": "execute_result"
    }
   ],
   "source": [
    "len(list(filter(str.isupper,input())))"
   ]
  },
  {
   "cell_type": "markdown",
   "metadata": {},
   "source": [
    "#### Print all the words which word contains duplicate characters\n",
    "input    :: ramu akash balu\n",
    "output   :: akash\n"
   ]
  },
  {
   "cell_type": "code",
   "execution_count": 12,
   "metadata": {},
   "outputs": [
    {
     "name": "stdout",
     "output_type": "stream",
     "text": [
      "ramu akash balu\n",
      "akash\n"
     ]
    }
   ],
   "source": [
    "names=input().split()\n",
    "for name in names:\n",
    "    for ch in name:\n",
    "        if name.count(ch)>1:\n",
    "            print(name)\n",
    "            break"
   ]
  },
  {
   "cell_type": "markdown",
   "metadata": {},
   "source": [
    "#### Print the number of digits, alphabets and any other \n",
    "input    ::   www.way2sms.com\n",
    "output   ::    DIGITS 1\n",
    "               ALPHABETS  12\n",
    "               OTHER 2\n"
   ]
  },
  {
   "cell_type": "code",
   "execution_count": 12,
   "metadata": {},
   "outputs": [
    {
     "name": "stdout",
     "output_type": "stream",
     "text": [
      "www.way2sms.com\n",
      "Digits 1 \n",
      " alphabets 12 \n",
      " others 2\n"
     ]
    }
   ],
   "source": [
    "n=input()\n",
    "count = 0\n",
    "alpha = 0\n",
    "others = 0\n",
    "for i in n:\n",
    "    if i.isdigit():\n",
    "        count+=1\n",
    "    elif i.isalpha():\n",
    "        alpha+=1\n",
    "    else:\n",
    "        others+=1\n",
    "print(\"Digits\",count,\"\\n\",\"alphabets\",alpha,\"\\n\",\"others\",others)"
   ]
  },
  {
   "cell_type": "markdown",
   "metadata": {},
   "source": []
  },
  {
   "cell_type": "code",
   "execution_count": null,
   "metadata": {},
   "outputs": [],
   "source": []
  },
  {
   "cell_type": "markdown",
   "metadata": {},
   "source": []
  },
  {
   "cell_type": "code",
   "execution_count": null,
   "metadata": {},
   "outputs": [],
   "source": []
  },
  {
   "cell_type": "markdown",
   "metadata": {},
   "source": [
    "\n"
   ]
  },
  {
   "cell_type": "code",
   "execution_count": null,
   "metadata": {},
   "outputs": [],
   "source": []
  },
  {
   "cell_type": "code",
   "execution_count": 30,
   "metadata": {},
   "outputs": [
    {
     "name": "stdout",
     "output_type": "stream",
     "text": [
      "10009\n",
      "10009\n",
      "5\n"
     ]
    }
   ],
   "source": [
    "a=input()\n",
    "b=input()\n",
    "c = len(a)\n",
    "count=0\n",
    "for i in range (0,c):\n",
    "    if a[i] == b[i]:\n",
    "        count +=1\n",
    "print(count)"
   ]
  },
  {
   "cell_type": "code",
   "execution_count": null,
   "metadata": {},
   "outputs": [],
   "source": []
  },
  {
   "cell_type": "markdown",
   "metadata": {},
   "source": [
    "### List Comprehence"
   ]
  },
  {
   "cell_type": "markdown",
   "metadata": {},
   "source": []
  },
  {
   "cell_type": "code",
   "execution_count": 2,
   "metadata": {},
   "outputs": [
    {
     "name": "stdout",
     "output_type": "stream",
     "text": [
      "502\n",
      "you need to improve\n"
     ]
    }
   ],
   "source": []
  },
  {
   "cell_type": "code",
   "execution_count": null,
   "metadata": {},
   "outputs": [],
   "source": []
  },
  {
   "cell_type": "code",
   "execution_count": 9,
   "metadata": {},
   "outputs": [
    {
     "name": "stdout",
     "output_type": "stream",
     "text": [
      "[0, 1, 2, 3, 4, 5, 6, 7, 8, 9]\n"
     ]
    }
   ],
   "source": [
    "#printing n values in a given range\n",
    "li = [i for i in range(10)]\n",
    "print(li)"
   ]
  },
  {
   "cell_type": "code",
   "execution_count": null,
   "metadata": {},
   "outputs": [],
   "source": []
  },
  {
   "cell_type": "code",
   "execution_count": 10,
   "metadata": {},
   "outputs": [
    {
     "name": "stdout",
     "output_type": "stream",
     "text": [
      "[0, 1, 4, 9, 16, 25, 36, 49, 64, 81]\n"
     ]
    }
   ],
   "source": [
    "#printing square values in list comprehension\n",
    "li = [i*i for i in range(10)]\n",
    "print(li)"
   ]
  },
  {
   "cell_type": "code",
   "execution_count": null,
   "metadata": {},
   "outputs": [],
   "source": [
    "#printing cube values in list comprehension\n",
    "li = [i*2 for i in range(1,10+1)]\n",
    "print(li)"
   ]
  },
  {
   "cell_type": "code",
   "execution_count": 1,
   "metadata": {},
   "outputs": [
    {
     "name": "stdout",
     "output_type": "stream",
     "text": [
      "ramu akash balu\n",
      "akash\n"
     ]
    }
   ],
   "source": []
  },
  {
   "cell_type": "code",
   "execution_count": 18,
   "metadata": {},
   "outputs": [
    {
     "name": "stdout",
     "output_type": "stream",
     "text": [
      "sai\n",
      "['S', 'A', 'I']\n"
     ]
    }
   ],
   "source": [
    "s=input()\n",
    "li=[i.upper() for i in s]\n",
    "print(li)"
   ]
  },
  {
   "cell_type": "code",
   "execution_count": 22,
   "metadata": {},
   "outputs": [
    {
     "name": "stdout",
     "output_type": "stream",
     "text": [
      "helloCworld\n"
     ]
    }
   ],
   "source": [
    "# Function to replace all occurrences of AB with C \n",
    "\n",
    "def replaceABwithC(input, pattern, replaceWith): \n",
    "    return input.replace(pattern, replaceWith) \n",
    "\n",
    "# Driver program \n",
    "if __name__ == \"__main__\": \n",
    "    input = 'helloABworld'\n",
    "    pattern = 'AB'\n",
    "    replaceWith = 'C'\n",
    "    print(replaceABwithC(input,pattern,replaceWith) )\n"
   ]
  },
  {
   "cell_type": "code",
   "execution_count": null,
   "metadata": {},
   "outputs": [],
   "source": [
    "n=int(input())\n"
   ]
  },
  {
   "cell_type": "code",
   "execution_count": null,
   "metadata": {},
   "outputs": [],
   "source": []
  },
  {
   "cell_type": "code",
   "execution_count": null,
   "metadata": {},
   "outputs": [],
   "source": []
  },
  {
   "cell_type": "code",
   "execution_count": null,
   "metadata": {},
   "outputs": [],
   "source": []
  },
  {
   "cell_type": "code",
   "execution_count": null,
   "metadata": {},
   "outputs": [],
   "source": []
  }
 ],
 "metadata": {
  "kernelspec": {
   "display_name": "Python 3",
   "language": "python",
   "name": "python3"
  },
  "language_info": {
   "codemirror_mode": {
    "name": "ipython",
    "version": 3
   },
   "file_extension": ".py",
   "mimetype": "text/x-python",
   "name": "python",
   "nbconvert_exporter": "python",
   "pygments_lexer": "ipython3",
   "version": "3.7.3"
  }
 },
 "nbformat": 4,
 "nbformat_minor": 2
}
