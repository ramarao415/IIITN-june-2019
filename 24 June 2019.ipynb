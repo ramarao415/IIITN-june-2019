{
 "cells": [
  {
   "cell_type": "code",
   "execution_count": null,
   "metadata": {},
   "outputs": [],
   "source": []
  },
  {
   "cell_type": "code",
   "execution_count": null,
   "metadata": {},
   "outputs": [],
   "source": [
    "#contacts application\n",
    "   # Add, Search, List, Modify Delete contacts\n",
    "    \n",
    "# Find and Replace Application\n",
    "   # Count the total number of occurances of a word \n",
    "    # If word is existing\n",
    "    # Replace all occurances of a word with another word\n",
    "    \n",
    "# Marks Analysis application\n",
    "   # Generate marks file for n students\n",
    "   # Input : Marks text file-each line contains marks of one student\n",
    "   # Generates a report with the following information\n",
    "     # Class Average\n",
    "     # % of students passed\n",
    "     # % of failed students\n",
    "     # % of students with distinction\n",
    "     # Highest Mark Frequency\n",
    "     # Lowest Mark Frequency\n",
    "    "
   ]
  },
  {
   "cell_type": "code",
   "execution_count": 4,
   "metadata": {},
   "outputs": [
    {
     "name": "stdout",
     "output_type": "stream",
     "text": [
      "16\n",
      "14\n",
      "11\n",
      "19\n",
      "17\n",
      "14\n",
      "23\n",
      "5\n",
      "25\n",
      "12\n",
      "11\n",
      "6\n",
      "19\n",
      "2\n",
      "7\n",
      "8\n",
      "24\n",
      "21\n",
      "6\n",
      "16\n",
      "23\n",
      "10\n",
      "8\n",
      "20\n",
      "11\n",
      "20\n",
      "6\n",
      "15\n",
      "2\n",
      "22\n",
      "22\n",
      "3\n",
      "21\n",
      "14\n",
      "6\n",
      "16\n",
      "10\n",
      "23\n",
      "15\n",
      "21\n",
      "23\n",
      "5\n",
      "21\n",
      "11\n",
      "10\n",
      "6\n",
      "10\n",
      "16\n",
      "12\n",
      "21\n",
      "23\n",
      "4\n",
      "21\n",
      "1\n",
      "25\n",
      "25\n",
      "10\n",
      "13\n",
      "3\n",
      "10\n",
      "4\n",
      "7\n",
      "24\n",
      "17\n",
      "24\n",
      "21\n",
      "18\n",
      "17\n",
      "13\n",
      "9\n",
      "22\n",
      "21\n",
      "5\n",
      "6\n",
      "10\n",
      "25\n",
      "1\n",
      "23\n",
      "21\n",
      "8\n",
      "16\n",
      "18\n",
      "13\n",
      "20\n",
      "22\n",
      "6\n",
      "24\n",
      "3\n",
      "2\n",
      "19\n",
      "7\n",
      "10\n",
      "22\n",
      "15\n",
      "9\n",
      "9\n",
      "17\n",
      "23\n",
      "6\n",
      "18\n"
     ]
    }
   ],
   "source": [
    "# function to generate marksdata for n students\n",
    "from random import randint\n",
    "\n",
    "def generateMarks(n, lb, ub):\n",
    "    with open('Data-files/marks.txt','w') as f:\n",
    "        for i in range(0,n):\n",
    "            r = randint(lb, ub)\n",
    "            #print(r,end=\"\\n\")\n",
    "            f.write(str(r) + '\\n')\n",
    "            print(r)\n",
    "    return\n",
    "generateMarks(100,0,25)"
   ]
  },
  {
   "cell_type": "code",
   "execution_count": 10,
   "metadata": {},
   "outputs": [
    {
     "name": "stdout",
     "output_type": "stream",
     "text": [
      "123\n"
     ]
    },
    {
     "data": {
      "text/plain": [
       "6"
      ]
     },
     "execution_count": 10,
     "metadata": {},
     "output_type": "execute_result"
    }
   ],
   "source": [
    "def sumOfDigits(num):\n",
    "    sum = 0\n",
    "    while num > 0 :\n",
    "        rem = num%10\n",
    "        sum = sum+rem \n",
    "        num = num//10\n",
    "    return sum\n",
    "num = int(input())\n",
    "sumOfDigits(num)"
   ]
  },
  {
   "cell_type": "code",
   "execution_count": null,
   "metadata": {},
   "outputs": [],
   "source": []
  }
 ],
 "metadata": {
  "kernelspec": {
   "display_name": "Python 3",
   "language": "python",
   "name": "python3"
  },
  "language_info": {
   "codemirror_mode": {
    "name": "ipython",
    "version": 3
   },
   "file_extension": ".py",
   "mimetype": "text/x-python",
   "name": "python",
   "nbconvert_exporter": "python",
   "pygments_lexer": "ipython3",
   "version": "3.7.3"
  }
 },
 "nbformat": 4,
 "nbformat_minor": 2
}
