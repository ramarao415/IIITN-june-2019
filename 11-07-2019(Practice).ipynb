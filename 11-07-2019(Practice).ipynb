{
 "cells": [
  {
   "cell_type": "code",
   "execution_count": 2,
   "metadata": {},
   "outputs": [
    {
     "data": {
      "text/plain": [
       "[]"
      ]
     },
     "execution_count": 2,
     "metadata": {},
     "output_type": "execute_result"
    }
   ],
   "source": [
    "a = []\n",
    "a"
   ]
  },
  {
   "cell_type": "code",
   "execution_count": 8,
   "metadata": {},
   "outputs": [
    {
     "name": "stdout",
     "output_type": "stream",
     "text": [
      "[1, 2, 3, 4, 5]\n"
     ]
    }
   ],
   "source": [
    "a = []\n",
    "b = 1,2,3,4,5\n",
    "for i in b:\n",
    "    a.append(i)\n",
    "print(a)"
   ]
  },
  {
   "cell_type": "code",
   "execution_count": 16,
   "metadata": {},
   "outputs": [
    {
     "name": "stdout",
     "output_type": "stream",
     "text": [
      "Gautham\n",
      "i\n",
      "Gauthami\n"
     ]
    }
   ],
   "source": [
    "import practice.p as f\n",
    "a = input()\n",
    "b = input()\n",
    "f.s(a,b)"
   ]
  },
  {
   "cell_type": "code",
   "execution_count": 41,
   "metadata": {},
   "outputs": [
    {
     "name": "stdout",
     "output_type": "stream",
     "text": [
      "2\n",
      "4\n",
      "7\n",
      "5\n",
      "Sum is 18\n"
     ]
    }
   ],
   "source": [
    "# function to generate marksdata for n students\n",
    "from random import randint\n",
    "s =0\n",
    "def generateMarks(n, lb, ub,s):\n",
    "    with open('Data-files/marks.txt','w') as f:\n",
    "        for i in range(1,n+1):\n",
    "            r = randint(lb, ub)\n",
    "            s +=r\n",
    "            print(r,end=\"\\n\")\n",
    "                      \n",
    "            f.write(str(r)+' \\n') \n",
    "        print(\"Sum is\",s)\n",
    "generateMarks(4,0,10,s)"
   ]
  },
  {
   "cell_type": "code",
   "execution_count": 46,
   "metadata": {},
   "outputs": [
    {
     "name": "stdout",
     "output_type": "stream",
     "text": [
      "www.google.com www.ram.com www.ram.com www.google.com\n",
      "total url 4\n",
      "2\n",
      "www.google.com\n",
      "www.ram.com\n"
     ]
    }
   ],
   "source": [
    "web = input().split()\n",
    "c = 0\n",
    "unique = {}\n",
    "for w in web:\n",
    "    c +=1\n",
    "    if w not in unique.keys():\n",
    "        unique[w]=1\n",
    "    else:\n",
    "        old = unique[w]\n",
    "        unique[w]=old+1\n",
    "        val=len(unique.keys())\n",
    "print(\"total url\",c)\n",
    "print(val)\n",
    "max_value = max(unique.values())\n",
    "myList = []\n",
    "for key,value in unique.items():\n",
    "    if value == max_value:\n",
    "        myList.append(key)\n",
    "myList.sort()\n",
    "for each in myList:\n",
    "      print(each)\n"
   ]
  },
  {
   "cell_type": "code",
   "execution_count": 29,
   "metadata": {},
   "outputs": [
    {
     "name": "stdout",
     "output_type": "stream",
     "text": [
      "3\n",
      "4\n",
      "2\n",
      "3\n"
     ]
    }
   ],
   "source": [
    "from random import randint\n",
    "with open('Data-files/k.txt','w') as f:\n",
    "    for i in range(4):\n",
    "        #print(i)\n",
    "        r = randint(2,4)\n",
    "        print(r)\n",
    "        f.write(str(i)+' \\n')\n"
   ]
  },
  {
   "cell_type": "code",
   "execution_count": 51,
   "metadata": {},
   "outputs": [
    {
     "name": "stdout",
     "output_type": "stream",
     "text": [
      "23\n",
      "43\n",
      "66\n"
     ]
    }
   ],
   "source": [
    "import first as g\n",
    "a = int(input())\n",
    "b = int(input())\n",
    "g.fir(a,b)"
   ]
  },
  {
   "cell_type": "code",
   "execution_count": null,
   "metadata": {},
   "outputs": [],
   "source": []
  },
  {
   "cell_type": "code",
   "execution_count": null,
   "metadata": {},
   "outputs": [],
   "source": []
  },
  {
   "cell_type": "code",
   "execution_count": null,
   "metadata": {},
   "outputs": [],
   "source": []
  }
 ],
 "metadata": {
  "kernelspec": {
   "display_name": "Python 3",
   "language": "python",
   "name": "python3"
  },
  "language_info": {
   "codemirror_mode": {
    "name": "ipython",
    "version": 3
   },
   "file_extension": ".py",
   "mimetype": "text/x-python",
   "name": "python",
   "nbconvert_exporter": "python",
   "pygments_lexer": "ipython3",
   "version": "3.7.3"
  }
 },
 "nbformat": 4,
 "nbformat_minor": 2
}
