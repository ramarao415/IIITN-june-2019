{
 "cells": [
  {
   "cell_type": "code",
   "execution_count": 2,
   "metadata": {},
   "outputs": [
    {
     "name": "stdout",
     "output_type": "stream",
     "text": [
      "9\n",
      "1 2 3 4 5 6 7 8 9\n",
      "9\n",
      "2 33 44 5 6 8 33 8 9\n",
      "6\n"
     ]
    }
   ],
   "source": [
    "a = int(input())\n",
    "m = list(map(int,input().split()))\n",
    "b = int(input())\n",
    "n = list(map(int,input().split()))\n",
    "x = set(m)\n",
    "y = set(n)\n",
    "print(len(x.symmetric_difference(y)))"
   ]
  },
  {
   "cell_type": "code",
   "execution_count": 2,
   "metadata": {},
   "outputs": [
    {
     "name": "stdout",
     "output_type": "stream",
     "text": [
      "4\n",
      "15\n",
      "17\n",
      "8\n",
      "5\n",
      "51\n"
     ]
    }
   ],
   "source": [
    "# Pentagonal number\n",
    "4     \n",
    "12    \n",
    "17\n",
    "8  --> \n",
    "5  --> 51\n",
    "\n",
    "n  = int(input())\n",
    "for i in range(n):\n",
    "    n1 = int(input())\n",
    "    s = 1\n",
    "    for j in range(2,n1+1):\n",
    "        s +=(j-1)*5\n",
    "print(s)"
   ]
  },
  {
   "cell_type": "code",
   "execution_count": 3,
   "metadata": {},
   "outputs": [
    {
     "name": "stdout",
     "output_type": "stream",
     "text": [
      "2\n",
      "sai ias\n",
      "Valid\n",
      "ram ran\n",
      "Invalid\n"
     ]
    }
   ],
   "source": [
    "#Shiritori Game\n",
    "n = int(input())\n",
    "for i in range(n):\n",
    "    s = input().split()\n",
    "    if len(s)==1:\n",
    "        print(\"valid\")\n",
    "    else:\n",
    "        status = True\n",
    "        for i in range(1,len(s)):\n",
    "            word1 = s[i]\n",
    "            word2 = s[i-1]\n",
    "            if word1[0] != word2[-1]:\n",
    "                status = False\n",
    "        for i in s:\n",
    "            if s.count(i)>1:\n",
    "                status = False\n",
    "        if status:\n",
    "            print(\"Valid\")\n",
    "        else:\n",
    "            print(\"Invalid\")\n",
    "        \n"
   ]
  },
  {
   "cell_type": "code",
   "execution_count": null,
   "metadata": {},
   "outputs": [],
   "source": []
  }
 ],
 "metadata": {
  "kernelspec": {
   "display_name": "Python 3",
   "language": "python",
   "name": "python3"
  },
  "language_info": {
   "codemirror_mode": {
    "name": "ipython",
    "version": 3
   },
   "file_extension": ".py",
   "mimetype": "text/x-python",
   "name": "python",
   "nbconvert_exporter": "python",
   "pygments_lexer": "ipython3",
   "version": "3.7.3"
  }
 },
 "nbformat": 4,
 "nbformat_minor": 2
}
