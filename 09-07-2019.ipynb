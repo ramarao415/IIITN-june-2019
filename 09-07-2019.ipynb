{
 "cells": [
  {
   "cell_type": "code",
   "execution_count": null,
   "metadata": {},
   "outputs": [],
   "source": []
  },
  {
   "cell_type": "code",
   "execution_count": 11,
   "metadata": {},
   "outputs": [
    {
     "name": "stdout",
     "output_type": "stream",
     "text": [
      "5\n",
      "5\n",
      "4\n",
      "3\n",
      "2\n",
      "1\n",
      "The runner up score is  4\n"
     ]
    }
   ],
   "source": [
    "# Read the Number of Participants\n",
    "n=int(input())\n",
    "scores = []\n",
    "for i in range(n):\n",
    "    s= int(input())\n",
    "    scores.append(s)\n",
    "scores=sorted(scores,reverse=True)\n",
    "max_score = max(scores)\n",
    "runner_up_score = scores[1]\n",
    "try:\n",
    "    for i in range(1,n):\n",
    "        if max_score == scores[i]:\n",
    "            runner_up_score = scores[i+1]\n",
    "    print(\"The runner up score is \",runner_up_score)\n",
    "except:\n",
    "    print(\"Sorry there is no runner up score\")\n",
    "        "
   ]
  },
  {
   "cell_type": "code",
   "execution_count": 6,
   "metadata": {},
   "outputs": [
    {
     "name": "stdout",
     "output_type": "stream",
     "text": [
      "['praneeth', 'rajesh', 'raja', 'hanuman', 'kalyan', 'swami', 'sindhu', 'gayathri', 'sairam', 'gauthami'] "
     ]
    }
   ],
   "source": [
    "l=['praneeth','rajesh','raja','hanuman','kalyan','swami','sindhu','gayathri','sairam','gauthami']\n",
    "print(l,end=\" \")"
   ]
  },
  {
   "cell_type": "code",
   "execution_count": 15,
   "metadata": {},
   "outputs": [
    {
     "name": "stdout",
     "output_type": "stream",
     "text": [
      "What index value you want to remove? 2\n",
      "['praneeth', 'rajesh', 'hanuman', 'kalyan', 'swami', 'sindhu', 'gayathri', 'sairam', 'gauthami']\n"
     ]
    }
   ],
   "source": [
    "l=['praneeth','rajesh','raja','hanuman','kalyan','swami','sindhu','gayathri','sairam','gauthami']\n",
    "val = int(input('What index value you want to remove? '))\n",
    "for i in range(len(l)):\n",
    "    if i == val:\n",
    "        l.remove(l[i])\n",
    "print(l)\n",
    "        "
   ]
  },
  {
   "cell_type": "markdown",
   "metadata": {},
   "source": [
    "   #### Dictionaries"
   ]
  },
  {
   "cell_type": "code",
   "execution_count": 18,
   "metadata": {},
   "outputs": [
    {
     "name": "stdout",
     "output_type": "stream",
     "text": [
      "22\n"
     ]
    }
   ],
   "source": [
    "sample={\"Name\":\"SaiGauthami\",\"age\":22,\"profession\":\"teacher\"}\n",
    "print(sample['age'])"
   ]
  },
  {
   "cell_type": "code",
   "execution_count": 19,
   "metadata": {},
   "outputs": [
    {
     "data": {
      "text/plain": [
       "{'Name': 'SaiGauthami', 'age': 23, 'profession': 'teacher'}"
      ]
     },
     "execution_count": 19,
     "metadata": {},
     "output_type": "execute_result"
    }
   ],
   "source": [
    "sample['age']=23\n",
    "sample"
   ]
  },
  {
   "cell_type": "code",
   "execution_count": 20,
   "metadata": {},
   "outputs": [
    {
     "name": "stdout",
     "output_type": "stream",
     "text": [
      "Name\n",
      "age\n",
      "profession\n"
     ]
    }
   ],
   "source": [
    "for i in sample:\n",
    "    print(i)"
   ]
  },
  {
   "cell_type": "code",
   "execution_count": 21,
   "metadata": {},
   "outputs": [
    {
     "name": "stdout",
     "output_type": "stream",
     "text": [
      "SaiGauthami\n",
      "23\n",
      "teacher\n"
     ]
    }
   ],
   "source": [
    "for i in sample.values():\n",
    "    print(i)"
   ]
  },
  {
   "cell_type": "code",
   "execution_count": 24,
   "metadata": {},
   "outputs": [
    {
     "name": "stdout",
     "output_type": "stream",
     "text": [
      "Name\n",
      "age\n",
      "profession\n"
     ]
    }
   ],
   "source": [
    "for i in sample.items():\n",
    "    print(i[0])\n",
    "    #print(i[1])    "
   ]
  },
  {
   "cell_type": "code",
   "execution_count": 25,
   "metadata": {},
   "outputs": [
    {
     "name": "stdout",
     "output_type": "stream",
     "text": [
      "{'Name': 'SaiGauthami', 'age': 23, 'profession': 'teacher', 'salary': 1000}\n"
     ]
    }
   ],
   "source": [
    "#inserting a new keys in the dictionary\n",
    "sample['salary']=1000\n",
    "print(sample)"
   ]
  },
  {
   "cell_type": "code",
   "execution_count": 26,
   "metadata": {},
   "outputs": [
    {
     "data": {
      "text/plain": [
       "{'Name': 'SaiGauthami', 'age': 23, 'salary': 1000}"
      ]
     },
     "execution_count": 26,
     "metadata": {},
     "output_type": "execute_result"
    }
   ],
   "source": [
    " # dict.pop('keyname') is used to remove perticular key & corresponding value\n",
    "sample.pop('profession')\n",
    "sample"
   ]
  },
  {
   "cell_type": "code",
   "execution_count": 27,
   "metadata": {},
   "outputs": [
    {
     "data": {
      "text/plain": [
       "{'Name': 'SaiGauthami', 'age': 23}"
      ]
     },
     "execution_count": 27,
     "metadata": {},
     "output_type": "execute_result"
    }
   ],
   "source": [
    "#popitem() removes the last key and corresponding value in that dict.\n",
    "sample.popitem()\n",
    "sample"
   ]
  },
  {
   "cell_type": "code",
   "execution_count": 29,
   "metadata": {},
   "outputs": [
    {
     "data": {
      "text/plain": [
       "{}"
      ]
     },
     "execution_count": 29,
     "metadata": {},
     "output_type": "execute_result"
    }
   ],
   "source": [
    "#clear() method clears entair dictionaries\n",
    "sample.clear()\n",
    "sample"
   ]
  },
  {
   "cell_type": "code",
   "execution_count": 30,
   "metadata": {},
   "outputs": [
    {
     "data": {
      "text/plain": [
       "{'name': 'Ram', 'age': 20}"
      ]
     },
     "execution_count": 30,
     "metadata": {},
     "output_type": "execute_result"
    }
   ],
   "source": [
    "sample=dict(name=\"Ram\",age=20)\n",
    "sample"
   ]
  },
  {
   "cell_type": "code",
   "execution_count": 7,
   "metadata": {},
   "outputs": [
    {
     "name": "stdout",
     "output_type": "stream",
     "text": [
      "enter the sportsperons name :sai\n",
      "Enter the score made by 543\n",
      "enter the sportsperons name :ram\n",
      "Enter the score made by 123\n",
      "enter the sportsperons name :gauthami\n",
      "Enter the score made by 988\n",
      "gauthami\n"
     ]
    }
   ],
   "source": [
    "# Read all the individual scores of 10 sportspersons \n",
    " #and display the winner name use dictionaries for this problem.\n",
    "    \n",
    "sports={}\n",
    "# Read Scores and sportspersons names\n",
    "for i in range(3):\n",
    "    name=input('enter the sportsperons name :')\n",
    "    score = int(input('Enter the score made by '))\n",
    "    sports[name] = score\n",
    "max_score = max(sports.values())\n",
    "for i in sports.items():\n",
    "    if i[1] == max_score:\n",
    "        print(i[0])"
   ]
  },
  {
   "cell_type": "code",
   "execution_count": 13,
   "metadata": {},
   "outputs": [
    {
     "name": "stdout",
     "output_type": "stream",
     "text": [
      "enter the sportspersons name : sai\n",
      "enter score by person435\n",
      "enter the sportspersons name : ram\n",
      "enter score by person675\n",
      "enter the sportspersons name : ran\n",
      "enter score by person987\n",
      "enter the sportspersons name : rama\n",
      "enter score by person87665\n",
      "{'rama': 1, 'ran': 2, 'ram': 3, 'sai': 4}\n"
     ]
    }
   ],
   "source": [
    "# Read all the individual scores of the batsmen\n",
    "# add print their rankings based on the scores\n",
    "\n",
    "#sample input\n",
    "       #  sai  - 123\n",
    "       #   ram  - 4322\n",
    "       #  ran  - 4567\n",
    "       #   ias  - 5432  \n",
    "# sample output\n",
    "\n",
    "          # 1 - ias\n",
    "          # 2 - ran\n",
    "          # 3 - ram\n",
    "          # 4 - sai\n",
    "            \n",
    "          \n",
    "sport = {}\n",
    "# Read scores and sportspersons names\n",
    "for i in range(4):\n",
    "    n = input('enter the sportspersons name : ')\n",
    "    s = int(input('enter score by person'))\n",
    "    sport[n]=s\n",
    "k=sorted(sport,key=sport.get,reverse=True)\n",
    "m = {key: rank for rank ,key in enumerate(k,1)}\n",
    "print(m)\n",
    "\n",
    "    "
   ]
  },
  {
   "cell_type": "code",
   "execution_count": 2,
   "metadata": {},
   "outputs": [
    {
     "data": {
      "text/plain": [
       "['__class__',\n",
       " '__contains__',\n",
       " '__delattr__',\n",
       " '__delitem__',\n",
       " '__dir__',\n",
       " '__doc__',\n",
       " '__eq__',\n",
       " '__format__',\n",
       " '__ge__',\n",
       " '__getattribute__',\n",
       " '__getitem__',\n",
       " '__gt__',\n",
       " '__hash__',\n",
       " '__init__',\n",
       " '__init_subclass__',\n",
       " '__iter__',\n",
       " '__le__',\n",
       " '__len__',\n",
       " '__lt__',\n",
       " '__ne__',\n",
       " '__new__',\n",
       " '__reduce__',\n",
       " '__reduce_ex__',\n",
       " '__repr__',\n",
       " '__setattr__',\n",
       " '__setitem__',\n",
       " '__sizeof__',\n",
       " '__str__',\n",
       " '__subclasshook__',\n",
       " 'clear',\n",
       " 'copy',\n",
       " 'fromkeys',\n",
       " 'get',\n",
       " 'items',\n",
       " 'keys',\n",
       " 'pop',\n",
       " 'popitem',\n",
       " 'setdefault',\n",
       " 'update',\n",
       " 'values']"
      ]
     },
     "execution_count": 2,
     "metadata": {},
     "output_type": "execute_result"
    }
   ],
   "source": [
    "dir({})"
   ]
  },
  {
   "cell_type": "code",
   "execution_count": null,
   "metadata": {},
   "outputs": [],
   "source": []
  },
  {
   "cell_type": "code",
   "execution_count": 9,
   "metadata": {},
   "outputs": [
    {
     "ename": "AttributeError",
     "evalue": "module 'mymodule' has no attribute 'mymodule'",
     "output_type": "error",
     "traceback": [
      "\u001b[1;31m---------------------------------------------------------------------------\u001b[0m",
      "\u001b[1;31mAttributeError\u001b[0m                            Traceback (most recent call last)",
      "\u001b[1;32m<ipython-input-9-880f0e9611dd>\u001b[0m in \u001b[0;36m<module>\u001b[1;34m\u001b[0m\n\u001b[0;32m      1\u001b[0m \u001b[1;32mimport\u001b[0m \u001b[0mmymodule\u001b[0m \u001b[1;32mas\u001b[0m \u001b[0ma\u001b[0m\u001b[1;33m\u001b[0m\u001b[1;33m\u001b[0m\u001b[0m\n\u001b[1;32m----> 2\u001b[1;33m \u001b[0ma\u001b[0m\u001b[1;33m.\u001b[0m\u001b[0mmymodule\u001b[0m\u001b[1;33m\u001b[0m\u001b[1;33m\u001b[0m\u001b[0m\n\u001b[0m",
      "\u001b[1;31mAttributeError\u001b[0m: module 'mymodule' has no attribute 'mymodule'"
     ]
    }
   ],
   "source": [
    "import mymodule as a\n",
    "a.mymodule"
   ]
  },
  {
   "cell_type": "code",
   "execution_count": 10,
   "metadata": {},
   "outputs": [
    {
     "name": "stdout",
     "output_type": "stream",
     "text": [
      "10\n",
      "15\n",
      "2\n"
     ]
    }
   ],
   "source": [
    "n1=int(input())\n",
    "n2=int(input())\n",
    "temp = n1\n",
    "if n1>n2:\n",
    "    temp = n2\n",
    "count = 0\n",
    "for i in range(1,temp):\n",
    "    if n1%i==0 and n2%i==0:\n",
    "        count+=1\n",
    "print(count)"
   ]
  },
  {
   "cell_type": "code",
   "execution_count": 42,
   "metadata": {},
   "outputs": [
    {
     "name": "stdout",
     "output_type": "stream",
     "text": [
      "enter the sportspersons name : sai \n",
      "enter score by person123\n",
      "enter the sportspersons name : ram\n",
      "enter score by person987\n",
      "enter the sportspersons name : ran\n",
      "enter score by person7654\n",
      "enter the sportspersons name : rama\n",
      "enter score by person23456\n",
      "rama 1\n",
      "ran 2\n",
      "ram 3\n",
      "sai  4\n"
     ]
    }
   ],
   "source": [
    "# Read all the individual scores of the batsmen\n",
    "# add print their rankings based on the scores\n",
    "\n",
    "#sample input\n",
    "       #  sai  - 123\n",
    "       #   ram  - 4322\n",
    "       #  ran  - 4567\n",
    "       #   ias  - 5432  \n",
    "# sample output\n",
    "\n",
    "          # 1 - ias\n",
    "          # 2 - ran\n",
    "          # 3 - ram\n",
    "          # 4 - sai\n",
    "        \n",
    "sport = {}\n",
    "# Read scores and sportspersons names\n",
    "for i in range(4):\n",
    "    n = input('enter the sportspersons name : ')\n",
    "    s = int(input('enter score by person'))\n",
    "    sport[n]=s       \n",
    "l=sport.values()\n",
    "l = sorted(l,reverse=True)\n",
    "rank = 1\n",
    "for k in l:\n",
    "    for j in sport.items():\n",
    "        if k == j[1]:\n",
    "            print(j[0],rank)\n",
    "            rank +=1"
   ]
  },
  {
   "cell_type": "code",
   "execution_count": 39,
   "metadata": {},
   "outputs": [
    {
     "name": "stdout",
     "output_type": "stream",
     "text": [
      "1,2,3,3,4,5,6,7,8,8,9,1,1,1,1,1,2,3,4,5,2,2,2,2,1,3,3\n",
      "1 --> 7\n"
     ]
    }
   ],
   "source": [
    "# Find Highest Frequent element in the list\n",
    "[1,1,1,1,1,2,3,4,5,2,2,2,2,1,3,3]\n",
    "1\n",
    "# Find second Highest Frequent element in the list\n",
    "[1,1,1,1,1,2,3,4,5,2,2,2,2,1,3,3]\n",
    "2\n",
    "#Find kth Highest Frequent element in the list\n",
    "[1,1,1,1,1,2,3,4,5,2,2,2,2,1,3,3]\n",
    "k=3\n",
    "3\n",
    "\n",
    "\n",
    "\n",
    "\n",
    "li = input().split(\",\")\n",
    "highest = 0 \n",
    "result = 0 \n",
    "for i in li:\n",
    "    frequency = li.count(i)\n",
    "    if frequency > highest:\n",
    "        highest = frequency\n",
    "        result = i\n",
    "print(result,\"-->\",li.count(result))"
   ]
  },
  {
   "cell_type": "code",
   "execution_count": 15,
   "metadata": {},
   "outputs": [
    {
     "name": "stdout",
     "output_type": "stream",
     "text": [
      "-1\n",
      "54\n",
      "55\n"
     ]
    }
   ],
   "source": [
    "#Find the absolute difference of two numbers\n",
    "# without using 'abs' function\n",
    "n1=int(input())\n",
    "n2=int(input())\n",
    "print((n1-n2)*-1)"
   ]
  },
  {
   "cell_type": "code",
   "execution_count": null,
   "metadata": {},
   "outputs": [],
   "source": [
    "# Find Highest Frequent element in the list\n",
    "[1,1,1,1,1,2,3,4,5,2,2,2,2,1,3,3]\n",
    "1\n",
    "# Find second Highest Frequent element in the list\n",
    "[1,1,1,1,1,2,3,4,5,2,2,2,2,1,3,3]\n",
    "2\n",
    "#Find kth Highest Frequent element in the list\n",
    "[1,1,1,1,1,2,3,4,5,2,2,2,2,1,3,3]\n",
    "k=3\n",
    "3"
   ]
  },
  {
   "cell_type": "code",
   "execution_count": 49,
   "metadata": {},
   "outputs": [
    {
     "name": "stdout",
     "output_type": "stream",
     "text": [
      "1\n"
     ]
    }
   ],
   "source": [
    "# Highest Frequent element in the list\n",
    "\n",
    "def highestFrequency(l):\n",
    "    d = {}\n",
    "    for i in l:\n",
    "        count = l.count(i)\n",
    "        if i not in d:\n",
    "            d[i] = count\n",
    "    return d\n",
    "d = highestFrequency([1,2,1,2,1,2,2,1,1,2,3,4,5,2,3,4,2,1,2,3,4,4])\n",
    "l = sorted(d.values(),reverse =True)\n",
    "max_value =l[1]\n",
    "#max_value=max(d.values())    \n",
    "for i in d.items():\n",
    "    if i[1] == max_value:\n",
    "        print(i[0])"
   ]
  },
  {
   "cell_type": "code",
   "execution_count": 50,
   "metadata": {},
   "outputs": [
    {
     "name": "stdout",
     "output_type": "stream",
     "text": [
      "38\n",
      "38 34\n",
      "34 EXIT\n",
      "\n",
      "\n",
      "38\n"
     ]
    }
   ],
   "source": [
    "max_element = 0\n",
    "while True:\n",
    "    n=input()\n",
    "    if n=='EXIT':\n",
    "        break\n",
    "    num = int(n)\n",
    "    if num %2==0:\n",
    "        print(num,end =\" \")\n",
    "        if max_element < num:\n",
    "            max_element = num\n",
    "print(\"\\n\")\n",
    "print(max_element) "
   ]
  },
  {
   "cell_type": "code",
   "execution_count": 53,
   "metadata": {},
   "outputs": [
    {
     "name": "stdout",
     "output_type": "stream",
     "text": [
      "3\n",
      "www.google.com\n",
      "www.apssdc.in\n",
      "www.redbus.com\n",
      "com\n"
     ]
    }
   ],
   "source": [
    "n = int(input())\n",
    "d = {}\n",
    "for i in range(n):\n",
    "    iurl = input().split(\".\")\n",
    "    domain = iurl[-1]\n",
    "    if domain not in d:\n",
    "        d[domain] = 1\n",
    "    else:\n",
    "        d[domain] +=1\n",
    "m = max(d.values())\n",
    "for i in d.items():\n",
    "    if i[1] == m:\n",
    "        print(i[0])"
   ]
  },
  {
   "cell_type": "code",
   "execution_count": null,
   "metadata": {},
   "outputs": [],
   "source": []
  },
  {
   "cell_type": "code",
   "execution_count": null,
   "metadata": {},
   "outputs": [],
   "source": []
  },
  {
   "cell_type": "code",
   "execution_count": null,
   "metadata": {},
   "outputs": [],
   "source": []
  },
  {
   "cell_type": "code",
   "execution_count": null,
   "metadata": {},
   "outputs": [],
   "source": []
  },
  {
   "cell_type": "code",
   "execution_count": null,
   "metadata": {},
   "outputs": [],
   "source": []
  },
  {
   "cell_type": "code",
   "execution_count": null,
   "metadata": {},
   "outputs": [],
   "source": []
  },
  {
   "cell_type": "code",
   "execution_count": null,
   "metadata": {},
   "outputs": [],
   "source": []
  },
  {
   "cell_type": "code",
   "execution_count": null,
   "metadata": {},
   "outputs": [],
   "source": []
  },
  {
   "cell_type": "code",
   "execution_count": null,
   "metadata": {},
   "outputs": [],
   "source": []
  }
 ],
 "metadata": {
  "kernelspec": {
   "display_name": "Python 3",
   "language": "python",
   "name": "python3"
  },
  "language_info": {
   "codemirror_mode": {
    "name": "ipython",
    "version": 3
   },
   "file_extension": ".py",
   "mimetype": "text/x-python",
   "name": "python",
   "nbconvert_exporter": "python",
   "pygments_lexer": "ipython3",
   "version": "3.7.3"
  }
 },
 "nbformat": 4,
 "nbformat_minor": 2
}
