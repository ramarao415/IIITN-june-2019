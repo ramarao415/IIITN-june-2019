{
 "cells": [
  {
   "cell_type": "markdown",
   "metadata": {},
   "source": [
    "#### Print given characters as a word with starting character capital form and remaining lower\n",
    "A P S S D C\n",
    "Apssdc"
   ]
  },
  {
   "cell_type": "code",
   "execution_count": 1,
   "metadata": {},
   "outputs": [
    {
     "name": "stdout",
     "output_type": "stream",
     "text": [
      "A P S S D C\n",
      "Apssdc\n"
     ]
    }
   ],
   "source": [
    "#above problem solution\n",
    "s=input()\n",
    "s=s.replace(\" \",\"\")\n",
    "s=s.capitalize()\n",
    "print(s)"
   ]
  },
  {
   "cell_type": "code",
   "execution_count": null,
   "metadata": {},
   "outputs": [],
   "source": [
    "characters = input()# a p s s d c\n",
    "words = characters.split()#[a p s s d c]\n",
    "\"\".join(words)\n",
    "words=words.capatilize()\n",
    "print(words)"
   ]
  },
  {
   "cell_type": "markdown",
   "metadata": {},
   "source": [
    "#### Print the maximum length word of given words\n",
    "input :: Hai hello world\n",
    "output ::          hello\n",
    "                   world\n"
   ]
  },
  {
   "cell_type": "code",
   "execution_count": 3,
   "metadata": {},
   "outputs": [
    {
     "name": "stdout",
     "output_type": "stream",
     "text": [
      "Hai hello world output\n",
      "output\n"
     ]
    }
   ],
   "source": [
    "k= input()\n",
    "k=k.split()\n",
    "high=0\n",
    "for i in k:\n",
    "    h = i\n",
    "    if len(i)>high:\n",
    "        high=len(i)\n",
    "for i in k:\n",
    "    if high==len(i):\n",
    "        print(i)"
   ]
  },
  {
   "cell_type": "code",
   "execution_count": 4,
   "metadata": {},
   "outputs": [
    {
     "name": "stdout",
     "output_type": "stream",
     "text": [
      "Hai hello world output\n",
      "output\n"
     ]
    }
   ],
   "source": [
    "words = input().split()#[\"hai\",\"hello\",\"world\"]\n",
    "lengths = []\n",
    "for word in words:\n",
    "    lengths.append(len(word))\n",
    "max_length=max(lengths)\n",
    "for word in words:\n",
    "    if max_length==len(word):\n",
    "        print(word)"
   ]
  },
  {
   "cell_type": "code",
   "execution_count": null,
   "metadata": {},
   "outputs": [],
   "source": [
    "words = input().split()#[\"hai\",\"hello\",\"world\"]\n",
    "max_length=max(list(map(int,words)))\n",
    "for word in words:\n",
    "    if max_length==len(word):\n",
    "        print(word)"
   ]
  },
  {
   "cell_type": "markdown",
   "metadata": {},
   "source": [
    "#### Print all the words which starts with the given character, If no words matches with the given condition you should print -1\n",
    "input   :: ramu ravi balu\n",
    "input   ::  r\n",
    "output  ::  ramu\n",
    "        ::  ravi"
   ]
  },
  {
   "cell_type": "code",
   "execution_count": null,
   "metadata": {},
   "outputs": [],
   "source": [
    "names = input().split()\n",
    "given_string=input()\n",
    "flag = 1\n",
    "for i in names:\n",
    "    g=i.startswith(given_string)\n",
    "    if(g):\n",
    "        print(i)\n",
    "        flag = 0\n",
    "if flag == 1:\n",
    "    print(\"-1\")\n",
    "\n",
    "        "
   ]
  },
  {
   "cell_type": "markdown",
   "metadata": {},
   "source": [
    "#### Print all the words which words not ends with vowels(a,e,i,o,u)\n",
    "input  :: ramu ravi balu raju mahesh\n",
    "output :: mahesh\n"
   ]
  },
  {
   "cell_type": "code",
   "execution_count": null,
   "metadata": {},
   "outputs": [],
   "source": [
    "a=[1,2,3]\n",
    "print(1 in a)"
   ]
  },
  {
   "cell_type": "code",
   "execution_count": null,
   "metadata": {},
   "outputs": [],
   "source": [
    "sentense = input().split()\n",
    "flag =1\n",
    "li = ['a','e','i','o','u']\n",
    "for i in sentense:\n",
    "    if(i[-1] in li):\n",
    "        flag = 0\n",
    "    else:\n",
    "        print(i)"
   ]
  },
  {
   "cell_type": "code",
   "execution_count": null,
   "metadata": {},
   "outputs": [],
   "source": [
    "word = input()\n",
    "word[:-1].swapcase()+word"
   ]
  },
  {
   "cell_type": "code",
   "execution_count": null,
   "metadata": {},
   "outputs": [],
   "source": [
    "word = input()\n",
    "count=0\n",
    "for char in word:\n",
    "    if char.isupper():\n",
    "        count+=1\n",
    "print(count)"
   ]
  },
  {
   "cell_type": "code",
   "execution_count": null,
   "metadata": {},
   "outputs": [],
   "source": [
    "len(list(filter(str.isupper,input())))"
   ]
  },
  {
   "cell_type": "code",
   "execution_count": null,
   "metadata": {},
   "outputs": [],
   "source": [
    "lb= int(input(\"enter lower range: \"))\n",
    "ub= int(input(\"enter upper range: \"))\n",
    "for i in range(lb,ub+1,2):\n",
    "    print(i)"
   ]
  },
  {
   "cell_type": "code",
   "execution_count": 11,
   "metadata": {},
   "outputs": [
    {
     "name": "stdout",
     "output_type": "stream",
     "text": [
      "enter lower range: 3\n",
      "enter upper range: 6\n",
      "3 5 "
     ]
    }
   ],
   "source": [
    "lb= int(input(\"enter lower range: \"))\n",
    "ub= int(input(\"enter upper range: \"))\n",
    "for i in range(lb,ub+1):\n",
    "    if i%2!=0:\n",
    "        print(i,end=\" \")"
   ]
  },
  {
   "cell_type": "markdown",
   "metadata": {},
   "source": [
    "### List Comprehence"
   ]
  },
  {
   "cell_type": "code",
   "execution_count": null,
   "metadata": {},
   "outputs": [],
   "source": [
    "#printing n values in a given range\n",
    "li = [i for i in range(10)]\n",
    "print(li)"
   ]
  },
  {
   "cell_type": "code",
   "execution_count": null,
   "metadata": {},
   "outputs": [],
   "source": [
    "#printing square values in list comprehension\n",
    "li = [i*i for i in range(10)]\n",
    "print(li)"
   ]
  },
  {
   "cell_type": "code",
   "execution_count": null,
   "metadata": {},
   "outputs": [],
   "source": [
    "#printing cube values in list comprehension\n",
    "li = [i*2 for i in range(1,10+1)]\n",
    "print(li)"
   ]
  },
  {
   "cell_type": "code",
   "execution_count": 1,
   "metadata": {},
   "outputs": [
    {
     "name": "stdout",
     "output_type": "stream",
     "text": [
      "ramu akash balu\n",
      "akash\n"
     ]
    }
   ],
   "source": [
    "names=input().split()\n",
    "for name in names:\n",
    "    for ch in name:\n",
    "        if name.count(ch)>1:\n",
    "            print(name)\n",
    "            break"
   ]
  },
  {
   "cell_type": "code",
   "execution_count": 18,
   "metadata": {},
   "outputs": [
    {
     "name": "stdout",
     "output_type": "stream",
     "text": [
      "sai\n",
      "['S', 'A', 'I']\n"
     ]
    }
   ],
   "source": [
    "s=input()\n",
    "li=[i.upper() for i in s]\n",
    "print(li)"
   ]
  },
  {
   "cell_type": "code",
   "execution_count": null,
   "metadata": {},
   "outputs": [],
   "source": []
  },
  {
   "cell_type": "code",
   "execution_count": null,
   "metadata": {},
   "outputs": [],
   "source": []
  },
  {
   "cell_type": "code",
   "execution_count": null,
   "metadata": {},
   "outputs": [],
   "source": []
  },
  {
   "cell_type": "code",
   "execution_count": null,
   "metadata": {},
   "outputs": [],
   "source": []
  },
  {
   "cell_type": "code",
   "execution_count": null,
   "metadata": {},
   "outputs": [],
   "source": []
  },
  {
   "cell_type": "code",
   "execution_count": null,
   "metadata": {},
   "outputs": [],
   "source": []
  }
 ],
 "metadata": {
  "kernelspec": {
   "display_name": "Python 3",
   "language": "python",
   "name": "python3"
  },
  "language_info": {
   "codemirror_mode": {
    "name": "ipython",
    "version": 3
   },
   "file_extension": ".py",
   "mimetype": "text/x-python",
   "name": "python",
   "nbconvert_exporter": "python",
   "pygments_lexer": "ipython3",
   "version": "3.7.3"
  }
 },
 "nbformat": 4,
 "nbformat_minor": 2
}
