{
 "cells": [
  {
   "cell_type": "code",
   "execution_count": 1,
   "metadata": {},
   "outputs": [
    {
     "name": "stdout",
     "output_type": "stream",
     "text": [
      "321\n",
      "1\n",
      "2\n",
      "3\n"
     ]
    }
   ],
   "source": [
    "def reverse(n):\n",
    "    while n>0:\n",
    "        r = n%10\n",
    "        print(r)\n",
    "        n=n//10\n",
    "n=int(input())\n",
    "reverse(n)"
   ]
  },
  {
   "cell_type": "code",
   "execution_count": 4,
   "metadata": {},
   "outputs": [
    {
     "name": "stdout",
     "output_type": "stream",
     "text": [
      "321\n",
      "1\n",
      "2\n",
      "3\n"
     ]
    }
   ],
   "source": [
    "# input 123\n",
    "# output 3 \\n 2 \\n 1\n",
    "text =input()\n",
    "reverse = text[::-1]\n",
    "#print(reverse)\n",
    "for n in reverse:\n",
    "    print(n)"
   ]
  },
  {
   "cell_type": "code",
   "execution_count": 11,
   "metadata": {},
   "outputs": [
    {
     "name": "stdout",
     "output_type": "stream",
     "text": [
      "Jihn Akhil\n",
      "A. Jihn\n"
     ]
    }
   ],
   "source": [
    "#John Akhil\n",
    "#A. John\n",
    "\n",
    "def name(k):\n",
    "    fname,lname=k[::-1]\n",
    "    print(fname[0],lname,sep=\". \")\n",
    "k = input().split()\n",
    "name(k)"
   ]
  },
  {
   "cell_type": "code",
   "execution_count": 23,
   "metadata": {},
   "outputs": [
    {
     "name": "stdout",
     "output_type": "stream",
     "text": [
      "90 8 65\n",
      "54\n"
     ]
    }
   ],
   "source": [
    "# 90 8 65\n",
    "\n",
    "def average(m):\n",
    "    marks = list(map(int,m.split()))\n",
    "    print(sum(marks)//len(marks))\n",
    "m=input()\n",
    "average(m)"
   ]
  },
  {
   "cell_type": "code",
   "execution_count": 21,
   "metadata": {},
   "outputs": [
    {
     "name": "stdout",
     "output_type": "stream",
     "text": [
      "Sai Ran\n",
      "R. Sai\n"
     ]
    }
   ],
   "source": [
    "def nameOf(k):\n",
    "    li = k[0]\n",
    "    li1 = k[1]\n",
    "    print(li1[0]+\".\",li)\n",
    "k= input().split()\n",
    "nameOf(k)"
   ]
  },
  {
   "cell_type": "code",
   "execution_count": 25,
   "metadata": {},
   "outputs": [
    {
     "name": "stdout",
     "output_type": "stream",
     "text": [
      "7\n",
      "<class 'str'>\n"
     ]
    }
   ],
   "source": [
    "s1 = \"4\"\n",
    "s2 = \"3\"\n",
    "print(int(s1)+int(s2))\n",
    "print(type(s1))"
   ]
  },
  {
   "cell_type": "code",
   "execution_count": null,
   "metadata": {},
   "outputs": [],
   "source": [
    "def listSum(a):\n",
    "    for i in range(a):\n",
    "        lis = list(map(int,input().split()))\n",
    "        print(sum(lis))  \n",
    "    return\n",
    "n=int(input())\n",
    "listSum(n)"
   ]
  }
 ],
 "metadata": {
  "kernelspec": {
   "display_name": "Python 3",
   "language": "python",
   "name": "python3"
  }
 },
 "nbformat": 4,
 "nbformat_minor": 2
}
