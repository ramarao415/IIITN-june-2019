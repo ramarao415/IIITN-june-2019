{
 "cells": [
  {
   "cell_type": "markdown",
   "metadata": {},
   "source": [
    "#### Date : 22 June 2019\n",
    "\n",
    "## Day Objectives\n",
    "- File Handling\n",
    "     - Basic File Data Processing\n",
    "         -Accessing and Modifying File Data\n",
    "     - Character Count\n",
    "     - Line Count\n",
    "     - File Size\n",
    "     - Word Count\n",
    "     - Unique Word Count"
   ]
  },
  {
   "cell_type": "code",
   "execution_count": 27,
   "metadata": {
    "scrolled": true
   },
   "outputs": [
    {
     "name": "stdout",
     "output_type": "stream",
     "text": [
      "new Gautham\n"
     ]
    }
   ],
   "source": [
    "# Read a File - File should exist(read mode)\n",
    "# Write to a File - Existing(append mode) or New File(write mode)\n",
    "\n",
    "def readFile(filepath):\n",
    "    with open(filepath,'r') as f:  \n",
    "        filedata = f.read()\n",
    "    return filedata\n",
    "filepath = 'Data-files/data.txt'\n",
    "#filedata = readFile(filepath)\n",
    "\n",
    "#for line in filedata.split():\n",
    "  #  print(line)\n",
    "print(readFile(filepath))"
   ]
  },
  {
   "cell_type": "code",
   "execution_count": 25,
   "metadata": {},
   "outputs": [
    {
     "name": "stdout",
     "output_type": "stream",
     "text": [
      "new Gautham\n"
     ]
    }
   ],
   "source": [
    "# write into a file \n",
    "def writeFile(fname,fdata):\n",
    "    with open(fname,\"w\")as f:\n",
    "        f.write(fdata)\n",
    "    return\n",
    "fname='Data-files/data.txt'\n",
    "writeFile(fname,\"new Gautham\")\n",
    "print(readFile(fname))"
   ]
  },
  {
   "cell_type": "code",
   "execution_count": 29,
   "metadata": {},
   "outputs": [
    {
     "name": "stdout",
     "output_type": "stream",
     "text": [
      "new Gauthamnew Gauthamnew Gautham\n",
      "new\n",
      "Gauthamnew\n",
      "Gauthamnew\n",
      "Gautham\n"
     ]
    }
   ],
   "source": [
    "#append into a file\n",
    "def writeFile(fname,fdata):\n",
    "    with open(fname,\"a\")as f:\n",
    "        f.write(fdata)\n",
    "    return\n",
    "fname='Data-files/data.txt'\n",
    "writeFile(fname,\"new Gautham\")\n",
    "print(readFile(fname))\n",
    "\n",
    "# spliting the file data\n",
    "filedata = readFile(filepath)\n",
    "for line in filedata.split():\n",
    "    print(line)"
   ]
  },
  {
   "cell_type": "code",
   "execution_count": 42,
   "metadata": {},
   "outputs": [
    {
     "name": "stdout",
     "output_type": "stream",
     "text": [
      "2\n",
      "8\n",
      "50\n"
     ]
    }
   ],
   "source": [
    "#finding lines,characters and words in given file\n",
    "\n",
    "with open('Data-files/data.txt') as infile:\n",
    "    lines=0\n",
    "    words=0\n",
    "    characters=0\n",
    "    for line in infile:\n",
    "        wordslist=line.split()\n",
    "        lines=lines+1\n",
    "        words=words+len(wordslist)\n",
    "        characters += sum(len(word) for word in wordslist)\n",
    "print(lines)\n",
    "print(words)\n",
    "print(characters)"
   ]
  },
  {
   "cell_type": "code",
   "execution_count": 47,
   "metadata": {},
   "outputs": [
    {
     "name": "stdout",
     "output_type": "stream",
     "text": [
      "{'new': 3, 'Gautham': 3, 'Sai_ram_Gautham': 1, 'uytrw': 1, 'ramarao': 1, 'sai': 1, 'ram': 1}\n"
     ]
    }
   ],
   "source": [
    "#unique word count\n",
    "def uniquecount(file_name):\n",
    "    count={}\n",
    "    with open(file_name,'r')as f:\n",
    "        l=f.read().split()\n",
    "        for i in l:\n",
    "            if i in count:\n",
    "                count[i]+=1\n",
    "            else:\n",
    "                count[i]=1\n",
    "        print(count)\n",
    "file_name = 'Data-files/data.txt'\n",
    "uniquecount(file_name)"
   ]
  },
  {
   "cell_type": "code",
   "execution_count": 38,
   "metadata": {},
   "outputs": [
    {
     "data": {
      "text/plain": [
       "['new Gautham new Gautham new Gautham Sai_ram_Gautham', 'uytrw']"
      ]
     },
     "execution_count": 38,
     "metadata": {},
     "output_type": "execute_result"
    }
   ],
   "source": [
    "#function to read a file into a list of lines \n",
    "# each element in the list is one line in the file \n",
    "def readFileIntoList(filepath):\n",
    "    with open(filepath,'r')as f:\n",
    "        filedata = f.read()\n",
    "        lines = filedata.split(\"\\n\")\n",
    "        #lines = []\n",
    "       # for line in f:\n",
    "        #    lines.append(line)\n",
    "    return lines\n",
    "filepath = 'Data-files/data.txt'\n",
    "readFileIntoList(filepath)"
   ]
  },
  {
   "cell_type": "code",
   "execution_count": 39,
   "metadata": {},
   "outputs": [
    {
     "data": {
      "text/plain": [
       "57"
      ]
     },
     "execution_count": 39,
     "metadata": {},
     "output_type": "execute_result"
    }
   ],
   "source": [
    "# function to count the number of characters in a file\n",
    "\n",
    "def charCountFile(filepath):\n",
    "    count = len(readFile(filepath))\n",
    "    return count\n",
    "charCountFile(filepath)"
   ]
  },
  {
   "cell_type": "code",
   "execution_count": 44,
   "metadata": {},
   "outputs": [
    {
     "data": {
      "text/plain": [
       "11"
      ]
     },
     "execution_count": 44,
     "metadata": {},
     "output_type": "execute_result"
    }
   ],
   "source": [
    "#funetion to count the number of words in a file\n",
    "\n",
    "import re\n",
    "\n",
    "def wordCountFile(filepath):\n",
    "    pattern = '[ \\n]'\n",
    "    filedata = readFile(filepath)\n",
    "    count = len(re.split(pattern,filedata))\n",
    "    return count\n",
    "wordCountFile(filepath)"
   ]
  },
  {
   "cell_type": "code",
   "execution_count": 52,
   "metadata": {},
   "outputs": [
    {
     "data": {
      "text/plain": [
       "[1, 2, 3]"
      ]
     },
     "execution_count": 52,
     "metadata": {},
     "output_type": "execute_result"
    }
   ],
   "source": [
    "# function to get unique elements in a list\n",
    "\n",
    "#[1,2,3,3,2,1]->>[1,2,3]\n",
    "# create a empty unique list [1,2,3]\n",
    "\n",
    "def uniqueData(list):\n",
    "    # create an empty unique list\n",
    "    unique = []\n",
    "    #for every element in the main list,check if it exists in the unique list.\n",
    "    #If it does not exist,add it to unique list\n",
    "    #else if it already exist,move on to the next \n",
    "    \n",
    "    for element in list:\n",
    "        if element not in unique:\n",
    "            unique.append(element)\n",
    "    return unique\n",
    "\n",
    "list=[1,2,3,3,2,1]\n",
    "\n",
    "uniqueData(list)"
   ]
  },
  {
   "cell_type": "code",
   "execution_count": 53,
   "metadata": {},
   "outputs": [
    {
     "name": "stdout",
     "output_type": "stream",
     "text": [
      "{'new': 3, 'Gautham': 3, 'Sai_ram_Gautham': 1, 'uytrw': 1, 'ramarao': 1, 'sai': 1, 'ram': 1}\n"
     ]
    }
   ],
   "source": [
    "#function to print the frequency count in a file\n",
    "\n",
    "#Data in Line 1\n",
    "#Data in Line 2\n",
    "#Data in Line 3\n",
    "#o/p\n",
    "#Data : 3\n",
    "#in : 3\n",
    "#Line : 3\n",
    "#1 : 1\n",
    "#2 : 1\n",
    "#3 : 1\n",
    "\n",
    "import re\n",
    "\n",
    "def Frequencycount(file_name):\n",
    "    count={}\n",
    "    with open(file_name,'r')as f:\n",
    "        l=f.read().split()\n",
    "        for i in l:\n",
    "            if i in count:\n",
    "                count[i]+=1\n",
    "            else:\n",
    "                count[i]=1\n",
    "        print(count)\n",
    "file_name = 'Data-files/data.txt'\n",
    "Frequencycount(file_name)"
   ]
  }
 ],
 "metadata": {
  "kernelspec": {
   "display_name": "Python 3",
   "language": "python",
   "name": "python3"
  },
  "language_info": {
   "codemirror_mode": {
    "name": "ipython",
    "version": 3
   },
   "file_extension": ".py",
   "mimetype": "text/x-python",
   "name": "python",
   "nbconvert_exporter": "python",
   "pygments_lexer": "ipython3",
   "version": "3.7.3"
  }
 },
 "nbformat": 4,
 "nbformat_minor": 2
}
